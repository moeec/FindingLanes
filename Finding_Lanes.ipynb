{
 "cells": [
  {
   "cell_type": "code",
   "execution_count": 24,
   "metadata": {
    "scrolled": false
   },
   "outputs": [
    {
     "name": "stdout",
     "output_type": "stream",
     "text": [
      "[MoviePy] >>>> Building video test_videos_output/solidWhiteRight.mp4\n",
      "[MoviePy] Writing video test_videos_output/solidWhiteRight.mp4\n"
     ]
    },
    {
     "name": "stderr",
     "output_type": "stream",
     "text": [
      "100%|█████████▉| 221/222 [00:24<00:00,  8.39it/s]\n"
     ]
    },
    {
     "name": "stdout",
     "output_type": "stream",
     "text": [
      "[MoviePy] Done.\n",
      "[MoviePy] >>>> Video ready: test_videos_output/solidWhiteRight.mp4 \n",
      "\n"
     ]
    }
   ],
   "source": [
    "#importing packages needed to perform Tasks\n",
    "import matplotlib.pyplot as plt\n",
    "import matplotlib.image as mpimg\n",
    "import numpy as np             #bringing in numpy libraries\n",
    "import cv2                     #bringing in OpenCV libraries\n",
    "import math\n",
    "import os                      #bringing in OS operations libraries\n",
    "# Import everything needed to edit/save/watch video clip\n",
    "from moviepy.editor import VideoFileClip\n",
    "from IPython.display import HTML\n",
    "from matplotlib.ticker import MultipleLocator, FormatStrFormatter\n",
    "os.listdir(\"test_images/\")\n",
    "%matplotlib inline\n",
    "\n",
    "\n",
    "\n",
    "# Function for Pipeline Below \n",
    "# The output returned is a color image (3 channel) of processed video with lines are drawn on lanes\n",
    "\n",
    "\n",
    "def process_image(image):\n",
    "    \n",
    "    \n",
    "    #Declare Variables needed to perform task\n",
    "    right_side_x = []\n",
    "    right_side_y = []\n",
    "    left_side_x = []\n",
    "    left_side_y = []\n",
    "    right_gradients = []\n",
    "    left_gradients = []\n",
    "\n",
    "    \n",
    "    # grayscale the image that has been taken in by function\n",
    "    gray = cv2.cvtColor(image,cv2.COLOR_RGB2GRAY)\n",
    "    # Define a kernel size and apply Gaussian smoothing\n",
    "    kernel_size = 5\n",
    "    blur_gray = cv2.GaussianBlur(gray,(kernel_size, kernel_size),0)\n",
    "\n",
    "    # Define our parameters for Canny and apply\n",
    "    low_threshold = 50\n",
    "    high_threshold = 150\n",
    "    edges = cv2.Canny(blur_gray, low_threshold, high_threshold)\n",
    "\n",
    "    # Next we'll create a masked edges image using cv2.fillPoly()\n",
    "    mask = np.zeros_like(edges)   \n",
    "    ignore_mask_color = 255   \n",
    "\n",
    "    # Defining a four sided polygon to mask\n",
    "    imshape = image.shape\n",
    "    vertices = np.array([[(0,imshape[0]), (460, 320), (490, 308), (imshape[1],imshape[0])]], dtype=np.int32)\n",
    "    cv2.fillPoly(mask, vertices, ignore_mask_color)\n",
    "    masked_edges = cv2.bitwise_and(edges, mask)\n",
    "    \n",
    "    \n",
    "    # Define the Hough transform parameters\n",
    "    # Make a blank the same size as our image to draw on\n",
    "    rho = 2 # distance resolution in pixels of the Hough grid\n",
    "    theta = np.pi/180 # angular resolution in radians of the Hough grid\n",
    "    threshold = 50     # minimum number of votes (intersections in Hough grid cell)\n",
    "    min_line_length = 40 #minimum number of pixels making up a line\n",
    "    max_line_gap = 100    # maximum gap in pixels between connectable line segments\n",
    "    α = 0.8\n",
    "    β = 1\n",
    "    λ = 0\n",
    "    line_image = np.copy(image)*0 # creating a blank to draw lines on\n",
    "\n",
    "    # Run Hough on edge detected image\n",
    "    # Output \"lines\" is an array containing endpoints of detected line segments\n",
    "    lines = cv2.HoughLinesP(masked_edges, rho, theta, threshold, np.array([]),\n",
    "                            min_line_length, max_line_gap)\n",
    "    \n",
    "    # Iterate over the output \"lines\" and draw lines on a blank image\n",
    "    for line in lines:\n",
    "        for x1,y1,x2,y2 in line:\n",
    "            #cv2.line(line_image,(x1,y1),(x2,y2),(255,0,0),5)\n",
    "            #cv2.line(line_image,(x1*2,y1*2),(x2*2,y2*2),(255,0,0),5)\n",
    "            \n",
    "            midpoint = imshape[1]/2\n",
    "            bottom = imshape[0]\n",
    "\n",
    "            a = (y2 - y1) / (x2 - x1)\n",
    "            b = int(y1 - a * x1)\n",
    "            \n",
    "            #Separating left & Right Lane lines\n",
    "            if a < 0 and x1 < midpoint and x2 < midpoint:  # Draw  left side lines\n",
    "                left_side_y.append(y1)\n",
    "                left_side_y.append(y2)\n",
    "                left_side_x.append(x1)\n",
    "                left_side_x.append(x2)\n",
    "                left_gradients.append(a)\n",
    "            elif a > 0 and x1 > midpoint and x2 > midpoint: # Draw Right side lines\n",
    "                right_side_y.append(y1)\n",
    "                right_side_y.append(y2)\n",
    "                right_side_x.append(x1)\n",
    "                right_side_x.append(x2)\n",
    "                right_gradients.append(a)\n",
    "               \n",
    "\n",
    "    #right lane draw\n",
    "    \n",
    "    if right_side_y:\n",
    "        min_right_side_y = min(right_side_y)\n",
    "        right_ref = right_side_y.index(min_right_side_y)\n",
    "        right_x1 = right_side_x[right_ref]\n",
    "        right_y1 = right_side_y[right_ref]\n",
    "        right_gradient = np.mean(right_gradients) \n",
    "\n",
    "\n",
    "        right_x2 = int(right_x1 + (bottom - right_y1) / right_gradient)\n",
    "\n",
    "        #Final draw for each right line drawn    \n",
    "        cv2.line(line_image, (right_x1, right_y1), (right_x2, bottom),(255,0,0),10)\n",
    "  \n",
    "    #left lane draw\n",
    "    \n",
    "    if left_side_y:\n",
    "        min_left_side_y = min(left_side_y)\n",
    "        left_ref = left_side_y.index(min_left_side_y)\n",
    "        left_x1 = left_side_x[left_ref]\n",
    "        left_y1 = left_side_y[left_ref]\n",
    "        left_gradient = np.mean(left_gradients)        \n",
    "        left_x2 = int(left_x1 + (bottom - left_y1) / left_gradient)\n",
    "        \n",
    "        #Final draw for each left line drawn\n",
    "        cv2.line(line_image, (left_x1, left_y1), (left_x2, bottom),(255,0,0),10)\n",
    "    \n",
    "    # Draw the lines on the edge image\n",
    "    result = cv2.addWeighted(image, α, line_image, β, λ) \n",
    "   \n",
    "    #Ouput test images for write up\n",
    "    cv2.imwrite('test_images_output/grayscale.jpg',gray)\n",
    "    cv2.imwrite('test_images_output/blur_gray.jpg',blur_gray)\n",
    "    cv2.imwrite('test_images_output/edges.jpg',edges)\n",
    "    cv2.imwrite('test_images_output/m_edges.jpg',masked_edges)\n",
    "    cv2.imwrite('test_images_output/result.jpg',result)\n",
    "    \n",
    "    #exit function and return result  \n",
    "    return result\n",
    "\n",
    "\n",
    "#Code that calls function to process image/video and output to file\n",
    "white_output = 'test_videos_output/solidWhiteRight.mp4'\n",
    "clip1 = VideoFileClip(\"test_videos/solidWhiteRight.mp4\")\n",
    "white_clip = clip1.fl_image(process_image)\n",
    "white_clip.write_videofile(white_output, audio=False)\n"
   ]
  },
  {
   "cell_type": "code",
   "execution_count": null,
   "metadata": {},
   "outputs": [],
   "source": []
  },
  {
   "cell_type": "code",
   "execution_count": null,
   "metadata": {},
   "outputs": [],
   "source": []
  },
  {
   "cell_type": "code",
   "execution_count": null,
   "metadata": {},
   "outputs": [],
   "source": []
  },
  {
   "cell_type": "code",
   "execution_count": null,
   "metadata": {},
   "outputs": [],
   "source": [
    "\n",
    "\n",
    "\n",
    "\n"
   ]
  },
  {
   "cell_type": "code",
   "execution_count": null,
   "metadata": {},
   "outputs": [],
   "source": [
    "2\n",
    "3\n"
   ]
  },
  {
   "cell_type": "code",
   "execution_count": null,
   "metadata": {},
   "outputs": [],
   "source": []
  },
  {
   "cell_type": "code",
   "execution_count": null,
   "metadata": {},
   "outputs": [],
   "source": []
  },
  {
   "cell_type": "code",
   "execution_count": null,
   "metadata": {},
   "outputs": [],
   "source": []
  },
  {
   "cell_type": "code",
   "execution_count": null,
   "metadata": {},
   "outputs": [],
   "source": []
  },
  {
   "cell_type": "code",
   "execution_count": null,
   "metadata": {},
   "outputs": [],
   "source": []
  },
  {
   "cell_type": "code",
   "execution_count": null,
   "metadata": {},
   "outputs": [],
   "source": []
  },
  {
   "cell_type": "code",
   "execution_count": null,
   "metadata": {},
   "outputs": [],
   "source": []
  },
  {
   "cell_type": "code",
   "execution_count": null,
   "metadata": {},
   "outputs": [],
   "source": []
  },
  {
   "cell_type": "code",
   "execution_count": null,
   "metadata": {},
   "outputs": [],
   "source": []
  },
  {
   "cell_type": "code",
   "execution_count": null,
   "metadata": {},
   "outputs": [],
   "source": []
  },
  {
   "cell_type": "code",
   "execution_count": null,
   "metadata": {},
   "outputs": [],
   "source": []
  },
  {
   "cell_type": "code",
   "execution_count": null,
   "metadata": {},
   "outputs": [],
   "source": []
  },
  {
   "cell_type": "code",
   "execution_count": null,
   "metadata": {},
   "outputs": [],
   "source": []
  },
  {
   "cell_type": "code",
   "execution_count": null,
   "metadata": {},
   "outputs": [],
   "source": []
  },
  {
   "cell_type": "code",
   "execution_count": null,
   "metadata": {},
   "outputs": [],
   "source": []
  },
  {
   "cell_type": "code",
   "execution_count": null,
   "metadata": {},
   "outputs": [],
   "source": []
  },
  {
   "cell_type": "code",
   "execution_count": null,
   "metadata": {},
   "outputs": [],
   "source": []
  },
  {
   "cell_type": "code",
   "execution_count": null,
   "metadata": {},
   "outputs": [],
   "source": []
  },
  {
   "cell_type": "code",
   "execution_count": null,
   "metadata": {},
   "outputs": [],
   "source": []
  },
  {
   "cell_type": "code",
   "execution_count": null,
   "metadata": {},
   "outputs": [],
   "source": []
  },
  {
   "cell_type": "code",
   "execution_count": null,
   "metadata": {},
   "outputs": [],
   "source": []
  },
  {
   "cell_type": "code",
   "execution_count": null,
   "metadata": {},
   "outputs": [],
   "source": []
  },
  {
   "cell_type": "code",
   "execution_count": null,
   "metadata": {},
   "outputs": [],
   "source": []
  },
  {
   "cell_type": "code",
   "execution_count": null,
   "metadata": {},
   "outputs": [],
   "source": []
  },
  {
   "cell_type": "code",
   "execution_count": null,
   "metadata": {},
   "outputs": [],
   "source": []
  },
  {
   "cell_type": "code",
   "execution_count": null,
   "metadata": {},
   "outputs": [],
   "source": []
  },
  {
   "cell_type": "code",
   "execution_count": null,
   "metadata": {},
   "outputs": [],
   "source": []
  },
  {
   "cell_type": "code",
   "execution_count": null,
   "metadata": {},
   "outputs": [],
   "source": []
  },
  {
   "cell_type": "code",
   "execution_count": null,
   "metadata": {},
   "outputs": [],
   "source": []
  },
  {
   "cell_type": "code",
   "execution_count": null,
   "metadata": {},
   "outputs": [],
   "source": []
  }
 ],
 "metadata": {
  "kernelspec": {
   "display_name": "Python 3",
   "language": "python",
   "name": "python3"
  },
  "language_info": {
   "codemirror_mode": {
    "name": "ipython",
    "version": 3
   },
   "file_extension": ".py",
   "mimetype": "text/x-python",
   "name": "python",
   "nbconvert_exporter": "python",
   "pygments_lexer": "ipython3",
   "version": "3.6.3"
  }
 },
 "nbformat": 4,
 "nbformat_minor": 2
}
